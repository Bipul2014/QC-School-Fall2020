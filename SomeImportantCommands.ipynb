{
 "cells": [
  {
   "cell_type": "markdown",
   "metadata": {},
   "source": [
    "To install Qiskit  \n",
    "`!pip install qiskit`"
   ]
  },
  {
   "cell_type": "markdown",
   "metadata": {},
   "source": [
    "Run the commands below to check all the installed python libraries in your machine.  \n",
    "`!pip list`  \n",
    "`!pip freeze`"
   ]
  },
  {
   "cell_type": "markdown",
   "metadata": {},
   "source": [
    "This version of qiskit that will run plot_bloch_multivector is 0.19.0 . If you are having issues with plot_bloch_multivector, run the command below in Juputer Notebook or the terminal.  \n",
    "`!pip install qiskit==0.19.0`  \n",
    "If the current user does not have root previleges use the following command.   \n",
    "`!pip install qiskit==0.19.0 --user`"
   ]
  },
  {
   "cell_type": "markdown",
   "metadata": {},
   "source": [
    "To check Qiskit Version  \n",
    "\n",
    "`import qiskit`  \n",
    "`qiskit.__qiskit_version__`"
   ]
  },
  {
   "cell_type": "markdown",
   "metadata": {},
   "source": [
    "To check git version on the **terminal**  \n",
    "`git --version`\n"
   ]
  },
  {
   "cell_type": "code",
   "execution_count": null,
   "metadata": {},
   "outputs": [],
   "source": []
  }
 ],
 "metadata": {
  "kernelspec": {
   "display_name": "Python 3",
   "language": "python",
   "name": "python3"
  },
  "language_info": {
   "codemirror_mode": {
    "name": "ipython",
    "version": 3
   },
   "file_extension": ".py",
   "mimetype": "text/x-python",
   "name": "python",
   "nbconvert_exporter": "python",
   "pygments_lexer": "ipython3",
   "version": "3.7.6"
  }
 },
 "nbformat": 4,
 "nbformat_minor": 4
}
